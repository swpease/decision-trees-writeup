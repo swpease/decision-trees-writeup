{
 "cells": [
  {
   "attachments": {},
   "cell_type": "markdown",
   "metadata": {},
   "source": [
    "## About\n",
    "This notebook outlines a workflow for classifying samples via decision trees in cases where the data is perfectly separable[^1] and the attributes are subjective. It works through an example dataset, the \"mushroom\" (id=24)[^2] [^3] data from [OpenML](https://www.openml.org/).\n",
    "\n",
    "The key consideration is \"attributes are subjective\". What one person thinks looks pink, another could think looks red. Does this mushroom smell faintly of almonds? I don't know... it kinda just smells like dirt! Having a decision tree that relies upon being able to confidently make these distinctions could be problematic.\n",
    "\n",
    "The overall procedure is:\n",
    "  - Use the unique data first:\n",
    "    - Identify the categories within each attribute that all fall within one class (I'll call these \"**pure classifiers**\").[^4]\n",
    "        - e.g. The samples in the category \"foul\" in the attribute \"odor\" all fall within the class \"inedible\".\n",
    "    - Use these to try to classify your sample.\n",
    "        - Any single one *should* yield a correct classification.[^4] [^5]\n",
    "  - If that fails, you can try using the remaining data, which is the samples without any categories in any attribute that correspond to a single class (put another way, the sample has no pure classifiers):\n",
    "    - For the failed pure classifiers:\n",
    "      - If it failed because you couldn't tell for sure (e.g. pink vs red), then either:\n",
    "        - Remove that entire attribute from your data.\n",
    "        - Remove the rows for the categories you're unsure about.\n",
    "    - You can either re-do the above process with the remaining data...\n",
    "      - This subset may have newly pure categories\n",
    "        - e.g. \"broad\" gill size is ambiguous in the full data, but after removing the pure classifiers' entries, its remaining subset is purely \"edible\".\n",
    "    - ...or, create a decision tree from the remaining data.\n",
    "      - If you *still* get stuck, you can remove the attribute that you're stuck on and rebuild the decision tree.\n",
    "\n",
    "[^1]: One way to figure this out is if your decision tree on the whole dataset has all pure leaves.\n",
    "\n",
    "[^2]: Reference paper: Schlimmer, JC. (1987). \"[Concept acquisition through representational adjustment](https://escholarship.org/uc/item/48r6d4z0)\". Technical Report Number 87-19.\n",
    "\n",
    "[^3]: For some reason, the number of samples is larger in the OpenML data than in the reference paper.\n",
    "\n",
    "[^4]: Importantly, this is predicated on you being confident that there aren't any unobserved instances that break these rules. e.g. All mushrooms with an \"odor\" of \"anise\" are edible in this data, but what if a newly discovered poisonous mushroom smells like anise?\n",
    "\n",
    "[^5]: Contradictory results indicate an issue with your assessment, an issue with the data collector's assessment, imperfect separation of your data into the classes (e.g. all attributes in two samples are the same, but the classes are different), or [^4]."
   ]
  },
  {
   "attachments": {},
   "cell_type": "markdown",
   "metadata": {},
   "source": [
    "## Data pre-processing"
   ]
  },
  {
   "attachments": {},
   "cell_type": "markdown",
   "metadata": {},
   "source": [
    "First, get the data."
   ]
  },
  {
   "cell_type": "code",
   "execution_count": 1,
   "metadata": {},
   "outputs": [],
   "source": [
    "import pandas as pd\n",
    "from sklearn.datasets import fetch_openml"
   ]
  },
  {
   "cell_type": "code",
   "execution_count": 2,
   "metadata": {},
   "outputs": [],
   "source": [
    "data: pd.DataFrame\n",
    "y: pd.Series\n",
    "# mushroom v1\n",
    "data, y = fetch_openml(data_id=24, return_X_y=True, parser=\"auto\") # type: ignore"
   ]
  },
  {
   "attachments": {},
   "cell_type": "markdown",
   "metadata": {},
   "source": [
    "They encoded the categories as single letters. I guess to save space? In any case, here we're converting them to what they stand for:"
   ]
  },
  {
   "cell_type": "code",
   "execution_count": 3,
   "metadata": {},
   "outputs": [],
   "source": [
    "converter = {\n",
    "    \"cap-shape\" : dict(bell=\"b\",conical=\"c\",convex=\"x\",flat=\"f\",knobbed=\"k\",sunken=\"s\"),\n",
    "    \"cap-surface\" : dict(fibrous=\"f\",grooves=\"g\",scaly=\"y\",smooth=\"s\"),\n",
    "    \"cap-color\" : dict(brown=\"n\",buff=\"b\",cinnamon=\"c\",gray=\"g\",green=\"r\",pink=\"p\",purple=\"u\",red=\"e\",white=\"w\",yellow=\"y\"),\n",
    "    \"bruises%3F\" : dict(bruises=\"t\",no=\"f\"),\n",
    "    \"odor\" : dict(almond=\"a\",anise=\"l\",creosote=\"c\",fishy=\"y\",foul=\"f\",musty=\"m\",none=\"n\",pungent=\"p\",spicy=\"s\"),\n",
    "    \"gill-attachment\" : dict(attached=\"a\",descending=\"d\",free=\"f\",notched=\"n\"),\n",
    "    \"gill-spacing\" : dict(close=\"c\",crowded=\"w\",distant=\"d\"),\n",
    "    \"gill-size\" : dict(broad=\"b\",narrow=\"n\"),\n",
    "    \"gill-color\" : dict(black=\"k\",brown=\"n\",buff=\"b\",chocolate=\"h\",gray=\"g\",green=\"r\",orange=\"o\",pink=\"p\",purple=\"u\",red=\"e\",white=\"w\",yellow=\"y\"),\n",
    "    \"stalk-shape\" : dict(enlarging=\"e\",tapering=\"t\"),\n",
    "    \"stalk-root\" : dict(bulbous=\"b\",club=\"c\",cup=\"u\",equal=\"e\",rhizomorphs=\"z\",rooted=\"r\",missing=\"?\"),\n",
    "    \"stalk-surface-above-ring\" : dict(fibrous=\"f\",scaly=\"y\",silky=\"k\",smooth=\"s\"),\n",
    "    \"stalk-surface-below-ring\" : dict(fibrous=\"f\",scaly=\"y\",silky=\"k\",smooth=\"s\"),\n",
    "    \"stalk-color-above-ring\" : dict(brown=\"n\",buff=\"b\",cinnamon=\"c\",gray=\"g\",orange=\"o\",pink=\"p\",red=\"e\",white=\"w\",yellow=\"y\"),\n",
    "    \"stalk-color-below-ring\" : dict(brown=\"n\",buff=\"b\",cinnamon=\"c\",gray=\"g\",orange=\"o\",pink=\"p\",red=\"e\",white=\"w\",yellow=\"y\"),\n",
    "    \"veil-type\" : dict(partial=\"p\",universal=\"u\"),\n",
    "    \"veil-color\" : dict(brown=\"n\",orange=\"o\",white=\"w\",yellow=\"y\"),\n",
    "    \"ring-number\" : dict(none=\"n\",one=\"o\",two=\"t\"),\n",
    "    \"ring-type\" : dict(cobwebby=\"c\",evanescent=\"e\",flaring=\"f\",large=\"l\",none=\"n\",pendant=\"p\",sheathing=\"s\",zone=\"z\"),\n",
    "    \"spore-print-color\" : dict(black=\"k\",brown=\"n\",buff=\"b\",chocolate=\"h\",green=\"r\",orange=\"o\",purple=\"u\",white=\"w\",yellow=\"y\"),\n",
    "    \"population\" : dict(abundant=\"a\",clustered=\"c\",numerous=\"n\",scattered=\"s\",several=\"v\",solitary=\"y\"),\n",
    "    \"habitat\" : dict(grasses=\"g\",leaves=\"l\",meadows=\"m\",paths=\"p\",urban=\"u\",waste=\"w\",woods=\"d\"),\n",
    "}\n",
    "# Flip k:v to v:k so we can convert \"b\" to \"bell\", etc.\n",
    "for attr_k, attr_v in converter.items():\n",
    "    converter[attr_k] = {v: k for k, v in attr_v.items()}"
   ]
  },
  {
   "cell_type": "code",
   "execution_count": 4,
   "metadata": {},
   "outputs": [],
   "source": [
    "for attr in data.columns:\n",
    "    data[attr] = data[attr].map(converter[attr])"
   ]
  },
  {
   "attachments": {},
   "cell_type": "markdown",
   "metadata": {},
   "source": [
    "Check for missing values:"
   ]
  },
  {
   "cell_type": "code",
   "execution_count": 5,
   "metadata": {},
   "outputs": [
    {
     "data": {
      "text/plain": [
       "stalk-root    2480\n",
       "dtype: int64"
      ]
     },
     "execution_count": 5,
     "metadata": {},
     "output_type": "execute_result"
    }
   ],
   "source": [
    "missing_values = len(data.index) - data.count()\n",
    "missing_values[missing_values > 0]"
   ]
  },
  {
   "attachments": {},
   "cell_type": "markdown",
   "metadata": {},
   "source": [
    "So I'll drop that column from the analysis."
   ]
  },
  {
   "cell_type": "code",
   "execution_count": 6,
   "metadata": {},
   "outputs": [],
   "source": [
    "data.drop(\"stalk-root\", axis=\"columns\", inplace=True)"
   ]
  },
  {
   "attachments": {},
   "cell_type": "markdown",
   "metadata": {},
   "source": [
    "Check for low-variance columns:"
   ]
  },
  {
   "cell_type": "code",
   "execution_count": 7,
   "metadata": {},
   "outputs": [
    {
     "name": "stdout",
     "output_type": "stream",
     "text": [
      "---- cap-shape ----\n",
      "convex     3656\n",
      "flat       3152\n",
      "knobbed     828\n",
      "bell        452\n",
      "sunken       32\n",
      "conical       4\n",
      "Name: cap-shape, dtype: int64\n",
      "\n",
      "\n",
      "---- cap-surface ----\n",
      "scaly      3244\n",
      "smooth     2556\n",
      "fibrous    2320\n",
      "grooves       4\n",
      "Name: cap-surface, dtype: int64\n",
      "\n",
      "\n",
      "---- cap-color ----\n",
      "brown       2284\n",
      "gray        1840\n",
      "red         1500\n",
      "yellow      1072\n",
      "white       1040\n",
      "buff         168\n",
      "pink         144\n",
      "cinnamon      44\n",
      "green         16\n",
      "purple        16\n",
      "Name: cap-color, dtype: int64\n",
      "\n",
      "\n",
      "---- bruises%3F ----\n",
      "no         4748\n",
      "bruises    3376\n",
      "Name: bruises%3F, dtype: int64\n",
      "\n",
      "\n",
      "---- odor ----\n",
      "none        3528\n",
      "foul        2160\n",
      "spicy        576\n",
      "fishy        576\n",
      "almond       400\n",
      "anise        400\n",
      "pungent      256\n",
      "creosote     192\n",
      "musty         36\n",
      "Name: odor, dtype: int64\n",
      "\n",
      "\n",
      "---- gill-attachment ----\n",
      "free        7914\n",
      "attached     210\n",
      "Name: gill-attachment, dtype: int64\n",
      "\n",
      "\n",
      "---- gill-spacing ----\n",
      "close      6812\n",
      "crowded    1312\n",
      "Name: gill-spacing, dtype: int64\n",
      "\n",
      "\n",
      "---- gill-size ----\n",
      "broad     5612\n",
      "narrow    2512\n",
      "Name: gill-size, dtype: int64\n",
      "\n",
      "\n",
      "---- gill-color ----\n",
      "buff         1728\n",
      "pink         1492\n",
      "white        1202\n",
      "brown        1048\n",
      "gray          752\n",
      "chocolate     732\n",
      "purple        492\n",
      "black         408\n",
      "red            96\n",
      "yellow         86\n",
      "orange         64\n",
      "green          24\n",
      "Name: gill-color, dtype: int64\n",
      "\n",
      "\n",
      "---- stalk-shape ----\n",
      "tapering     4608\n",
      "enlarging    3516\n",
      "Name: stalk-shape, dtype: int64\n",
      "\n",
      "\n",
      "---- stalk-surface-above-ring ----\n",
      "smooth     5176\n",
      "silky      2372\n",
      "fibrous     552\n",
      "scaly        24\n",
      "Name: stalk-surface-above-ring, dtype: int64\n",
      "\n",
      "\n",
      "---- stalk-surface-below-ring ----\n",
      "smooth     4936\n",
      "silky      2304\n",
      "fibrous     600\n",
      "scaly       284\n",
      "Name: stalk-surface-below-ring, dtype: int64\n",
      "\n",
      "\n",
      "---- stalk-color-above-ring ----\n",
      "white       4464\n",
      "pink        1872\n",
      "gray         576\n",
      "brown        448\n",
      "buff         432\n",
      "orange       192\n",
      "red           96\n",
      "cinnamon      36\n",
      "yellow         8\n",
      "Name: stalk-color-above-ring, dtype: int64\n",
      "\n",
      "\n",
      "---- stalk-color-below-ring ----\n",
      "white       4384\n",
      "pink        1872\n",
      "gray         576\n",
      "brown        512\n",
      "buff         432\n",
      "orange       192\n",
      "red           96\n",
      "cinnamon      36\n",
      "yellow        24\n",
      "Name: stalk-color-below-ring, dtype: int64\n",
      "\n",
      "\n",
      "---- veil-type ----\n",
      "partial    8124\n",
      "Name: veil-type, dtype: int64\n",
      "\n",
      "\n",
      "---- veil-color ----\n",
      "white     7924\n",
      "brown       96\n",
      "orange      96\n",
      "yellow       8\n",
      "Name: veil-color, dtype: int64\n",
      "\n",
      "\n",
      "---- ring-number ----\n",
      "one     7488\n",
      "two      600\n",
      "none      36\n",
      "Name: ring-number, dtype: int64\n",
      "\n",
      "\n",
      "---- ring-type ----\n",
      "pendant       3968\n",
      "evanescent    2776\n",
      "large         1296\n",
      "flaring         48\n",
      "none            36\n",
      "Name: ring-type, dtype: int64\n",
      "\n",
      "\n",
      "---- spore-print-color ----\n",
      "white        2388\n",
      "brown        1968\n",
      "black        1872\n",
      "chocolate    1632\n",
      "green          72\n",
      "buff           48\n",
      "orange         48\n",
      "purple         48\n",
      "yellow         48\n",
      "Name: spore-print-color, dtype: int64\n",
      "\n",
      "\n",
      "---- population ----\n",
      "several      4040\n",
      "solitary     1712\n",
      "scattered    1248\n",
      "numerous      400\n",
      "abundant      384\n",
      "clustered     340\n",
      "Name: population, dtype: int64\n",
      "\n",
      "\n",
      "---- habitat ----\n",
      "woods      3148\n",
      "grasses    2148\n",
      "paths      1144\n",
      "leaves      832\n",
      "urban       368\n",
      "meadows     292\n",
      "waste       192\n",
      "Name: habitat, dtype: int64\n",
      "\n",
      "\n"
     ]
    }
   ],
   "source": [
    "for c in data.columns:\n",
    "    print(\"---- {} ----\".format(c))\n",
    "    print(data[c].value_counts())\n",
    "    print(\"\\n\")"
   ]
  },
  {
   "attachments": {},
   "cell_type": "markdown",
   "metadata": {},
   "source": [
    "There's only one category for `veil-type`."
   ]
  },
  {
   "cell_type": "code",
   "execution_count": 8,
   "metadata": {},
   "outputs": [],
   "source": [
    "data.drop(\"veil-type\", axis=\"columns\", inplace=True)"
   ]
  },
  {
   "attachments": {},
   "cell_type": "markdown",
   "metadata": {},
   "source": [
    "## Use Pure Classifier Data\n",
    "The following method, `find_pure_categories`, gives us a `DataFrame` of (category + attribute)'s, plus some statistics, that we can use to classify our sample. \n",
    "\n",
    "Any one of these will be sufficient. If you *do* find a contradiction, e.g. It smells like \"anise\" (should be edible), but it's gill color is \"buff\" (should be inedible), then you need to reevaluate, because there is a mistake somewhere: \n",
    "  - In your assessment of this sample.\n",
    "  - In the representativeness of the data.\n",
    "  - In the initial assessment of the data."
   ]
  },
  {
   "cell_type": "code",
   "execution_count": 9,
   "metadata": {},
   "outputs": [],
   "source": [
    "def find_pure_categories(data: pd.DataFrame, y):\n",
    "    \"\"\"\n",
    "    Find pure categories and return them along with some statistics on them.\n",
    "\n",
    "    \"Pure categories\" are the categories of an attribute that are entirely in one class.\n",
    "    e.g. In the attribute \"odor\", mushrooms in the \"foul\" category are in the class \"poisonous\".\n",
    "    data: Your data, with categorical attributes (columns where dtype == \"category\").\n",
    "    y: The associated class labels.\n",
    "    returns: A dataframe of the pure catgories + attribute + class, plus statistics:\n",
    "      - count\n",
    "      - x of y unique categories in attribute\n",
    "      - x/y as %\n",
    "      - % of data this category classifies\n",
    "      - % of data this attribute's pure categories classify\n",
    "    \"\"\"\n",
    "    full_data = data.copy()\n",
    "    full_data[\"y\"] = y\n",
    "    cat_data = data.select_dtypes(include=\"category\")\n",
    "\n",
    "    dfs = []\n",
    "\n",
    "    for col_name in cat_data.columns:\n",
    "        # Group by categories in attribute (e.g. bruises t, bruises f), count the 'e' and 'p' for each category.\n",
    "        q: pd.DataFrame = full_data.groupby(col_name)[\"y\"].value_counts().rename(\"count\").reset_index()\n",
    "        # Get categories that are all poisonous or all edible.\n",
    "        r: pd.DataFrame = q.groupby(col_name).filter(lambda df: any(df[\"count\"] == 0))\n",
    "        # Remove the 0 values.\n",
    "        s: pd.DataFrame = r.groupby([col_name, \"y\"]).filter(lambda df: all(df[\"count\"] != 0))\n",
    "        # There's probably a better way to do this...\n",
    "        s[\"Category\"] = s[col_name].values.to_list()\n",
    "        s[\"Attribute\"] = col_name\n",
    "        s[\"Identifier\"] = s[\"Attribute\"] + \"_\" + s[\"Category\"]\n",
    "        s.drop([col_name], axis=\"columns\", inplace=True)\n",
    "        s[\"Pure Categories in Attribute\"] = str(len(s.index)) + \" of \" + str(len(q[col_name].cat.categories))\n",
    "        s[\"Pct Pure Cat in Attr\"] = (len(s.index) / len(q[col_name].cat.categories)) * 100\n",
    "        s[\"Pct of Data Classified by Cat\"] = (s[\"count\"] / len(full_data.index)) * 100\n",
    "        s[\"Pct of Data Classified by Attr's Pure Cats\"] = (s[\"count\"].sum() / len(full_data.index)) * 100\n",
    "        dfs.append(s)\n",
    "\n",
    "    pure_classifiers = pd.concat(dfs).reset_index(drop=True)\n",
    "    return pure_classifiers"
   ]
  },
  {
   "cell_type": "code",
   "execution_count": 10,
   "metadata": {},
   "outputs": [],
   "source": [
    "pure_classifiers = find_pure_categories(data, y)"
   ]
  },
  {
   "attachments": {},
   "cell_type": "markdown",
   "metadata": {},
   "source": [
    "## Use Not-Initially-Pure Classifier Data\n",
    "If you couldn't classify your data with the above, or there were no unique (category + attribute)'s to begin with, then we can select the remaining data and work on that.\n",
    "\n",
    "This is also the point where you'd evaluate whether to drop attributes that you've concluded you're not confident in using for this particular sample (or if you knew in advance (e.g. you're color blind), you could do it at the start)."
   ]
  },
  {
   "cell_type": "code",
   "execution_count": 24,
   "metadata": {},
   "outputs": [],
   "source": [
    "def filter_out_pure_categories(data: pd.DataFrame, y):\n",
    "    \"\"\"\n",
    "    Get the rows of data and their associated y's that have no pure categories.\n",
    "    \n",
    "    data: Your data, with categorical attributes (columns where dtype == \"category\").\n",
    "    y: The associated class labels.\n",
    "    returns: Filtered data.\n",
    "\n",
    "    Example\n",
    "    >>> test_data = pd.DataFrame(\n",
    "    ...     {\n",
    "    ...         \"size\": [\"S\", \"S\", \"S\", \"M\", \"M\", \"M\", \"L\", \"L\", \"L\", \"XL\", \"XL\"],\n",
    "    ...         \"color\": [\"green\", \"green\", \"black\", \"black\", \"blue\", \"blue\", \"green\", \"blue\", \"blue\", \"blue\", \"blue\"],\n",
    "    ...     },\n",
    "    ...     dtype=\"category\"\n",
    "    ... )\n",
    "    >>> test_y = pd.Series(\n",
    "    ...     [\"A\", \"A\", \"B\", \"B\", \"A\", \"A\", \"A\", \"A\", \"A\", \"A\", \"B\"],\n",
    "    ...     dtype=\"category\",\n",
    "    ...     name=\"class\"\n",
    "    ... )\n",
    "    >>> test_data_filtered, test_y_filtered = filter_out_pure_categories(test_data, test_y)\n",
    "    >>> test_data_filtered[\"class\"] = test_y_filtered\n",
    "    >>> test_data_filtered\n",
    "       size color class\n",
    "    4     M  blue     A\n",
    "    5     M  blue     A\n",
    "    9    XL  blue     A\n",
    "    10   XL  blue     B\n",
    "    \"\"\"\n",
    "    pure_classifiers = find_pure_categories(data, y)\n",
    "    pure_cats_in_attrs = pure_classifiers.loc[:, [\"Attribute\", \"Category\"]].reset_index(drop=True)\n",
    "    attrs_w_pure_cats = pure_classifiers[\"Attribute\"].drop_duplicates().reset_index(drop=True)\n",
    "    uncertain_data = data.copy()\n",
    "    uncertain_data[\"y\"] = y\n",
    "    for attr in attrs_w_pure_cats:\n",
    "        cats = pure_cats_in_attrs[pure_cats_in_attrs[\"Attribute\"] == attr][\"Category\"]\n",
    "        uncertain_data = uncertain_data[~uncertain_data[attr].isin(cats)]\n",
    "    return uncertain_data.drop(\"y\", axis=\"columns\"), uncertain_data[\"y\"]"
   ]
  },
  {
   "cell_type": "code",
   "execution_count": 12,
   "metadata": {},
   "outputs": [],
   "source": [
    "uncertain_data, uncertain_y = filter_out_pure_categories(data, y)"
   ]
  },
  {
   "attachments": {},
   "cell_type": "markdown",
   "metadata": {},
   "source": [
    "The counts of each category, by attribute. Zero counts indicate the pure categories within each attribute."
   ]
  },
  {
   "cell_type": "code",
   "execution_count": 13,
   "metadata": {},
   "outputs": [
    {
     "name": "stdout",
     "output_type": "stream",
     "text": [
      "---- cap-shape ----\n",
      "convex     696\n",
      "flat       649\n",
      "knobbed     73\n",
      "bell        57\n",
      "conical      0\n",
      "sunken       0\n",
      "Name: cap-shape, dtype: int64 \n",
      "\n",
      "---- cap-surface ----\n",
      "fibrous    744\n",
      "scaly      443\n",
      "smooth     288\n",
      "grooves      0\n",
      "Name: cap-surface, dtype: int64 \n",
      "\n",
      "---- cap-color ----\n",
      "gray        496\n",
      "brown       472\n",
      "red         256\n",
      "white       203\n",
      "cinnamon     32\n",
      "pink          8\n",
      "yellow        8\n",
      "buff          0\n",
      "green         0\n",
      "purple        0\n",
      "Name: cap-color, dtype: int64 \n",
      "\n",
      "---- bruises%3F ----\n",
      "bruises    803\n",
      "no         672\n",
      "Name: bruises%3F, dtype: int64 \n",
      "\n",
      "---- odor ----\n",
      "none        1475\n",
      "almond         0\n",
      "creosote       0\n",
      "foul           0\n",
      "anise          0\n",
      "musty          0\n",
      "pungent        0\n",
      "spicy          0\n",
      "fishy          0\n",
      "Name: odor, dtype: int64 \n",
      "\n",
      "---- gill-attachment ----\n",
      "free        1475\n",
      "attached       0\n",
      "Name: gill-attachment, dtype: int64 \n",
      "\n",
      "---- gill-spacing ----\n",
      "close      896\n",
      "crowded    579\n",
      "Name: gill-spacing, dtype: int64 \n",
      "\n",
      "---- gill-size ----\n",
      "broad     1344\n",
      "narrow     131\n",
      "Name: gill-size, dtype: int64 \n",
      "\n",
      "---- gill-color ----\n",
      "white        355\n",
      "pink         352\n",
      "brown        304\n",
      "purple       192\n",
      "black        112\n",
      "chocolate     96\n",
      "gray          64\n",
      "buff           0\n",
      "red            0\n",
      "orange         0\n",
      "green          0\n",
      "yellow         0\n",
      "Name: gill-color, dtype: int64 \n",
      "\n",
      "---- stalk-shape ----\n",
      "tapering     1152\n",
      "enlarging     323\n",
      "Name: stalk-shape, dtype: int64 \n",
      "\n",
      "---- stalk-surface-above-ring ----\n",
      "smooth     1155\n",
      "fibrous     216\n",
      "silky        88\n",
      "scaly        16\n",
      "Name: stalk-surface-above-ring, dtype: int64 \n",
      "\n",
      "---- stalk-surface-below-ring ----\n",
      "smooth     1155\n",
      "fibrous     216\n",
      "silky        72\n",
      "scaly        32\n",
      "Name: stalk-surface-below-ring, dtype: int64 \n",
      "\n",
      "---- stalk-color-above-ring ----\n",
      "white       1075\n",
      "pink         384\n",
      "brown         16\n",
      "buff           0\n",
      "cinnamon       0\n",
      "red            0\n",
      "gray           0\n",
      "orange         0\n",
      "yellow         0\n",
      "Name: stalk-color-above-ring, dtype: int64 \n",
      "\n",
      "---- stalk-color-below-ring ----\n",
      "white       1011\n",
      "pink         384\n",
      "brown         80\n",
      "buff           0\n",
      "cinnamon       0\n",
      "red            0\n",
      "gray           0\n",
      "orange         0\n",
      "yellow         0\n",
      "Name: stalk-color-below-ring, dtype: int64 \n",
      "\n",
      "---- veil-color ----\n",
      "white     1475\n",
      "brown        0\n",
      "orange       0\n",
      "yellow       0\n",
      "Name: veil-color, dtype: int64 \n",
      "\n",
      "---- ring-number ----\n",
      "one     1283\n",
      "two      192\n",
      "none       0\n",
      "Name: ring-number, dtype: int64 \n",
      "\n",
      "---- ring-type ----\n",
      "pendant       1027\n",
      "evanescent     448\n",
      "flaring          0\n",
      "large            0\n",
      "none             0\n",
      "Name: ring-type, dtype: int64 \n",
      "\n",
      "---- spore-print-color ----\n",
      "black        608\n",
      "brown        608\n",
      "white        259\n",
      "buff           0\n",
      "chocolate      0\n",
      "orange         0\n",
      "green          0\n",
      "purple         0\n",
      "yellow         0\n",
      "Name: spore-print-color, dtype: int64 \n",
      "\n",
      "---- population ----\n",
      "scattered    528\n",
      "several      496\n",
      "solitary     448\n",
      "clustered      3\n",
      "abundant       0\n",
      "numerous       0\n",
      "Name: population, dtype: int64 \n",
      "\n",
      "---- habitat ----\n",
      "woods      792\n",
      "grasses    528\n",
      "urban       64\n",
      "leaves      51\n",
      "paths       40\n",
      "meadows      0\n",
      "waste        0\n",
      "Name: habitat, dtype: int64 \n",
      "\n"
     ]
    }
   ],
   "source": [
    "for col in uncertain_data.columns:\n",
    "    print(\"---- {} ----\".format(col))\n",
    "    print(uncertain_data[col].value_counts(), \"\\n\")"
   ]
  },
  {
   "cell_type": "markdown",
   "metadata": {},
   "source": [
    "We can iteratively do the above process:"
   ]
  },
  {
   "cell_type": "code",
   "execution_count": 14,
   "metadata": {},
   "outputs": [],
   "source": [
    "newly_pure_classifiers = find_pure_categories(uncertain_data, uncertain_y)"
   ]
  },
  {
   "cell_type": "code",
   "execution_count": 15,
   "metadata": {},
   "outputs": [],
   "source": [
    "uncertain_data_b, uncertain_y_b = filter_out_pure_categories(uncertain_data, uncertain_y)"
   ]
  },
  {
   "attachments": {},
   "cell_type": "markdown",
   "metadata": {},
   "source": [
    "Or we can make a decision tree:"
   ]
  },
  {
   "attachments": {},
   "cell_type": "markdown",
   "metadata": {},
   "source": [
    "### Create a Decision Tree\n",
    "We'll use `sklearn`'s `DecisionTreeClassifier`. We have to one-hot encode our data because `sklearn` doesn't handle categorical data for decision trees for reasons."
   ]
  },
  {
   "cell_type": "code",
   "execution_count": 16,
   "metadata": {},
   "outputs": [],
   "source": [
    "import matplotlib.pyplot as plt\n",
    "\n",
    "from sklearn.pipeline import make_pipeline\n",
    "from sklearn.preprocessing import OneHotEncoder\n",
    "from sklearn import tree"
   ]
  },
  {
   "attachments": {},
   "cell_type": "markdown",
   "metadata": {},
   "source": [
    "Making an optimal decision tree is an NP-complete problem. Here is a method to brute force a small tree, because fewer decisions is better I figure. You can also play around with the sample or class weights if you want to try to coerce a certain tree shape."
   ]
  },
  {
   "cell_type": "code",
   "execution_count": 17,
   "metadata": {},
   "outputs": [],
   "source": [
    "def brute_force_small_tree(data, y, max_features, n: int = 1_000):\n",
    "    \"\"\"\n",
    "    data: your data, without the class column (y)\n",
    "    y: your class column\n",
    "    max_features: Passed to `sklearn.tree.DecisionTreeClassifier`. See its docs. Try a few values.\n",
    "    n: number of iterations in brute force\n",
    "    returns: (smallest_tree, smallest_tree_one_hot_encoder). Both are needed to plot with `tree.plot_tree`.\n",
    "    \"\"\"\n",
    "    smallest_node_count = 1_000_000\n",
    "    smallest_tree = None\n",
    "    smallest_tree_ohe = None\n",
    "\n",
    "    for _ in range(n):\n",
    "        tree_pipe = make_pipeline(\n",
    "            OneHotEncoder(handle_unknown=\"ignore\"), \n",
    "            tree.DecisionTreeClassifier(max_features=max_features)\n",
    "        )\n",
    "        tree_pipe.fit(data, y)\n",
    "\n",
    "        tree_ohe: OneHotEncoder = tree_pipe[0]\n",
    "        tree_tree: tree.DecisionTreeClassifier = tree_pipe[1]\n",
    "        if tree_tree.tree_.node_count < smallest_node_count:\n",
    "            smallest_tree = tree_tree\n",
    "            smallest_tree_ohe = tree_ohe\n",
    "            smallest_node_count = tree_tree.tree_.node_count\n",
    "            print(\"smallest tree: \", smallest_node_count)\n",
    "    return smallest_tree, smallest_tree_ohe\n",
    "        "
   ]
  },
  {
   "cell_type": "code",
   "execution_count": 18,
   "metadata": {},
   "outputs": [
    {
     "name": "stdout",
     "output_type": "stream",
     "text": [
      "smallest tree:  9\n",
      "smallest tree:  7\n"
     ]
    }
   ],
   "source": [
    "smallest_tree, smallest_tree_ohe = brute_force_small_tree(uncertain_data, uncertain_y, 0.8)"
   ]
  },
  {
   "cell_type": "code",
   "execution_count": 19,
   "metadata": {},
   "outputs": [],
   "source": [
    "def plot_decision_tree(fitted_tree: tree.DecisionTreeClassifier, fitted_one_hot_encoder: OneHotEncoder):\n",
    "    fig: plt.Figure\n",
    "    ax: plt.Axes\n",
    "    fig, ax = plt.subplots()\n",
    "    fig.set_size_inches(10, 10) # Resize if needed.\n",
    "\n",
    "    tree.plot_tree(fitted_tree, \n",
    "        feature_names=fitted_one_hot_encoder.get_feature_names_out(),\n",
    "        class_names=fitted_tree.classes_\n",
    "        )"
   ]
  },
  {
   "cell_type": "code",
   "execution_count": 20,
   "metadata": {},
   "outputs": [
    {
     "data": {
      "image/png": "[encoded data removed]",
      "text/plain": [
       "<Figure size 1000x1000 with 1 Axes>"
      ]
     },
     "metadata": {},
     "output_type": "display_data"
    }
   ],
   "source": [
    "plot_decision_tree(smallest_tree, smallest_tree_ohe)"
   ]
  },
  {
   "attachments": {},
   "cell_type": "markdown",
   "metadata": {},
   "source": [
    "So the way to read the decision tree is:\n",
    "  - The left path means True, right means False\n",
    "  - `samples = N` refers to how many samples this particular node is dealing with, as determined by all of its parent nodes\n",
    "  - `value = [a, b]` refers to the current classification counts of your `samples`, given all of the parent nodes, where I believe it just goes in numerical / alphabetical order.\n",
    "      - For example, the root node has had no splitting done, so its `value`s are just the counts of each class in your data set.\n",
    "      - In a root node's child, the `value`s are the counts of each class in the subset of your data. So above, at `population_several <= 0.5` is false (right child), there were 16 samples where this was the case, and of those 16, all 16 or poisonous.\n",
    "  - `class = x` refers to whichever value in `value` is largest, i.e. majority rules. If we had 86 for 'p' and only 85 for 'e', we'd call everything in this node 'p'.\n",
    "  - (an example) `population_several <= 0.5` refers to the decision that the node will use to split into two children. It is not a consideration for the `value` or `class` values in its own node."
   ]
  },
  {
   "attachments": {},
   "cell_type": "markdown",
   "metadata": {},
   "source": [
    "## Test"
   ]
  },
  {
   "cell_type": "code",
   "execution_count": 25,
   "metadata": {},
   "outputs": [
    {
     "data": {
      "text/plain": [
       "TestResults(failed=0, attempted=5)"
      ]
     },
     "execution_count": 25,
     "metadata": {},
     "output_type": "execute_result"
    }
   ],
   "source": [
    "import doctest\n",
    "doctest.testmod()"
   ]
  },
  {
   "attachments": {},
   "cell_type": "markdown",
   "metadata": {},
   "source": [
    "In case you want to interact with an example for `filter_out_pure_categories`...\n",
    "\n",
    "Here I've put in two cases:\n",
    "  1. size = \"M\" is in both class A and B, but after removing the (size = \"M\" and color = \"black\") row due to \"black\" being purely B, we are left with \"M\"'s that are purely A.\n",
    "  2. size = \"XL\" demonstrates contradictory samples. You can't get perfect classification with your data."
   ]
  },
  {
   "cell_type": "code",
   "execution_count": 22,
   "metadata": {},
   "outputs": [],
   "source": [
    "test_data = pd.DataFrame(\n",
    "    {\n",
    "        \"size\": [\"S\", \"S\", \"S\", \"M\", \"M\", \"M\", \"L\", \"L\", \"L\", \"XL\", \"XL\"],\n",
    "        \"color\": [\"green\", \"green\", \"black\", \"black\", \"blue\", \"blue\", \"green\", \"blue\", \"blue\", \"blue\", \"blue\"],\n",
    "    },\n",
    "    dtype=\"category\"\n",
    ")\n",
    "test_y = pd.Series(\n",
    "    [\"A\", \"A\", \"B\", \"B\", \"A\", \"A\", \"A\", \"A\", \"A\", \"A\", \"B\"],\n",
    "    dtype=\"category\",\n",
    "    name=\"class\"\n",
    ")\n",
    "full_test_data = test_data.copy()\n",
    "full_test_data[\"class\"] = test_y\n",
    "\n",
    "test_data_filtered, test_y_filtered = filter_out_pure_categories(test_data, test_y)\n",
    "test_data_filtered[\"class\"] = test_y_filtered\n",
    "test_data_filtered"
   ]
  }
 ],
 "metadata": {
  "kernelspec": {
   "display_name": "data-analysis",
   "language": "python",
   "name": "python3"
  },
  "language_info": {
   "codemirror_mode": {
    "name": "ipython",
    "version": 3
   },
   "file_extension": ".py",
   "mimetype": "text/x-python",
   "name": "python",
   "nbconvert_exporter": "python",
   "pygments_lexer": "ipython3",
   "version": "3.11.1"
  },
  "orig_nbformat": 4
 },
 "nbformat": 4,
 "nbformat_minor": 2
}
